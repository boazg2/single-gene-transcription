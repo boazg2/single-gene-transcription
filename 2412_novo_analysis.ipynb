{
 "cells": [
  {
   "cell_type": "code",
   "execution_count": null,
   "id": "57b68bb7",
   "metadata": {},
   "outputs": [],
   "source": [
    "# Import necessary libraries\n",
    "# The script uses transcriptomics datasets imported through GRATIOSA\n",
    "# https://github.com/sammeyer2017/GRATIOSA\n",
    "#%load_ext autoreload\n",
    "#%autoreload 2\n",
    "import sys,os\n",
    "import numpy as np\n",
    "import pandas as pd\n",
    "from scipy import interpolate\n",
    "from scipy.integrate import trapz\n",
    "import matplotlib.pyplot as plt\n",
    "import matplotlib.lines as lines\n",
    "from GRATIOSA import Genome, Chipseq, Transcriptome, GO \n",
    "from GRATIOSA import stat_analysis, plot_stat_analysis, useful_functions_Chipseq\n",
    "from GRATIOSA.globvar import *\n",
    "from scipy import stats\n",
    "from scipy.stats import spearmanr\n",
    "cm = 1/2.54  # centimeters in inches"
   ]
  },
  {
   "cell_type": "code",
   "execution_count": null,
   "id": "4cb2465c",
   "metadata": {},
   "outputs": [],
   "source": [
    "# Create dictionaries with all analyzed conditions"
   ]
  },
  {
   "cell_type": "code",
   "execution_count": 2,
   "id": "50899f22",
   "metadata": {},
   "outputs": [],
   "source": [
    "organisms = [\"D. dadantii\", \"E. coli\", \"S. enterica\", \"S. enterica_\", \"S. pneumoniae\", \"M. pneumoniae\", \"S. elongatus\"]\n",
    "# tags\n",
    "organism_tags_v = [\"dickeya\",\"ecoli\",\"salmonella_RNAseq\",\"salmonella\",\"streptococcus\",\"mycoplasma_pneu\",\"synechococcus\"]\n",
    "organism_tags = {organisms[i]: organism_tags_v[i] for i in range(len(organisms))}\n",
    "# expression tag for each \n",
    "expression_tags_v = [\"wt_Expo\", \"base\", \"basemean\", \"base\", \"base\", \"base\", \"base\"]\n",
    "expression_tags = {organisms[i]: expression_tags_v[i] for i in range(len(organisms))}\n",
    "# conditions\n",
    "conditions = {}\n",
    "conditions_tags = {}\n",
    "# Dickeya\n",
    "# Data sources: https://academic.oup.com/nar/article/47/11/5648/5477453, https://academic.oup.com/nar/article/50/16/9149/6660960\n",
    "conditions[\"D. dadantii\"] = [\"novo_expo\", \"seco_expo\"]\n",
    "conditions_tags[\"D. dadantii\"] = [\"WT_nov_expo_vs_WT_expo\", \"WT+seco/WT\"]\n",
    "# E. coli\n",
    "# Data sources: https://www.embopress.org/doi/full/10.1038/sj.embor.7400729, https://link.springer.com/article/10.1186/gb-2004-5-11-r87\n",
    "conditions[\"E. coli\"] = [\"novo_Blot\", \"novo_Peter_100\"]\n",
    "conditions_tags[\"E. coli\"] = [\"Blot\", \"Peter_200\"]\n",
    "# S. enterica\n",
    "# Data source: https://www.sciencedirect.com/science/article/pii/S2352340920301918\n",
    "conditions[\"S. enterica\"] = [\"novo_500_60min\"]\n",
    "conditions_tags[\"S. enterica\"] = [\"Novo500_60min\"]\n",
    "# S. pneumoniae\n",
    "# Data source: https://academic.oup.com/nar/article/38/11/3570/3100681, https://academic.oup.com/nar/article/44/15/7292/2457757\n",
    "conditions[\"S. pneumoniae\"] = [\"novo_5min\", \"novo_15min\", \"novo_30min\", \"seco_5min\", \"seco_15min\", \"seco_30min\", \"seco_5min_rnaseq\", \"seco_15min_rnaseq\"]\n",
    "conditions_tags[\"S. pneumoniae\"] = [\"novo5\", \"novo15\", \"novo30\", \"secot5\", \"secot15\", \"secot30\", \"secot5_rnaseq\", \"secot15_rnaseq\"]\n",
    "# M. pneumoniae\n",
    "# Data source: https://www.cell.com/cell-systems/fulltext/S2405-4712(16)30149-1\n",
    "conditions[\"M. pneumoniae\"] = [\"novo_50\"]\n",
    "conditions_tags[\"M. pneumoniae\"] = [\"nov50\"]\n",
    "# S. elongatus\n",
    "# Data source: https://www.pnas.org/doi/abs/10.1073/pnas.0912673106\n",
    "conditions[\"S. elongatus\"] = [\"corr_sc\"]\n",
    "conditions_tags[\"S. elongatus\"] = [\"corr_supercoil\"]"
   ]
  },
  {
   "cell_type": "code",
   "execution_count": 3,
   "id": "fda48bbd",
   "metadata": {},
   "outputs": [],
   "source": [
    "#test_organisms=[\"S. enterica_\"]\n",
    "test_organisms=organisms"
   ]
  },
  {
   "cell_type": "code",
   "execution_count": null,
   "id": "6cf1be20",
   "metadata": {},
   "outputs": [],
   "source": [
    "# Create violin plot with quartiles for all datasets\n",
    "# Create a file with correlation tests for all datasets\n",
    "corf=open(\"correl_values_expr_log2FC_select.txt\",\"w\")\n",
    "corf.write(\"Species\\tCondition\\tNumber of genes\\tCorrelation coefficient\\tP-value\\n\")\n",
    "for org in test_organisms: \n",
    "    #os.makedirs(org)\n",
    "    # Load the organism data\n",
    "    print(\"----------------------\")\n",
    "    print(org, organism_tags[org])\n",
    "    g = Genome.Genome(organism_tags[org])\n",
    "    g.load_seq()\n",
    "    if org==\"D. dadantii\":\n",
    "        g.load_annotation(features=[\"CDS\"])\n",
    "    #elif org==\"S. elongatus\":\n",
    "    #    g.load_annotation(annot_file=\"annotation.info\")\n",
    "    else:\n",
    "        g.load_annotation()\n",
    "    tr=Transcriptome.Transcriptome(g)\n",
    "    tr.load_expression()\n",
    "    tr.load_fc_pval()\n",
    "    tr.compute_state_from_fc()\n",
    "    # Classify genes by expression\n",
    "    classif_genes = stat_analysis.data_classification(\n",
    "    data_x = tr.genes_valid_expr[expression_tags[org]].keys(),\n",
    "    data_y = [tr.genes[x].expression[expression_tags[org]] for x in tr.genes_valid_expr[expression_tags[org]].keys()],\n",
    "    class_nb = 4)\n",
    "    ### T-TEST OF log2FC average values\n",
    "    # For each fold-change condition, create the dictionary of fold-change values\n",
    "    # Violin plot for log2FC of genes split into quartiles\n",
    "    for ic, cond in enumerate(conditions_tags[org]):\n",
    "        dict_cond={}\n",
    "        number_genes=0\n",
    "        for expr_class in range(4):\n",
    "            dict_cond[expr_class]=[tr.genes[x].fc_pval[cond][0] for x in tr.genes_valid_fc[cond] if x in classif_genes[0][expr_class]]\n",
    "            number_genes+=len(dict_cond[expr_class])\n",
    "        plot_stat_analysis.plot_student_test(dict_cond, method = \"wilcoxon\", alt_hyp = \"two-sided\", output_dir = \"%s/\"%org, output_file= \"fc_quartiles_all_%s_%s\"%(org,conditions[org][ic]), xlabel = 'quartile', ylabel = \"log2 fold_change\", title = \"%s, %s, %d genes\"%(org,conditions[org][ic],number_genes))\n",
    "        # violin plot\n",
    "        fig=plt.figure()\n",
    "        plt.violinplot([dict_cond[k] for k in dict_cond.keys()],positions=range(1,5),showextrema=False,showmedians=True)\n",
    "        plt.xticks(range(1,5))\n",
    "        plt.ylim(-3,3)\n",
    "        plt.xlabel(\"quartile\")\n",
    "        plt.savefig(\"%s/fc_violin_all_%s_%s.pdf\"%(org,org,conditions[org][ic]))\n",
    "    # --------------------------------------------\n",
    "    # Compute the t-test for SIGNIFICANTLY DIFF EXPR GENES\n",
    "    # Also compute the correlation test for the file\n",
    "    # Here we include all genes, independently of their quartile\n",
    "    for ic, cond in enumerate(conditions_tags[org]):\n",
    "        dict_cond={}\n",
    "        number_genes=0\n",
    "        corf_expr=[]\n",
    "        corf_log2FC=[]\n",
    "        for expr_class in range(4):\n",
    "            dict_cond[expr_class] = [tr.genes[x].fc_pval[cond][0] for x in tr.genes_valid_fc[cond] if x in classif_genes[0][expr_class] and tr.genes[x].fc_pval[cond][1]<0.05]\n",
    "            corf_log2FC += dict_cond[expr_class]\n",
    "            corf_expr += [tr.genes[x].expression[expression_tags[org]] for x in tr.genes_valid_fc[cond] if x in classif_genes[0][expr_class] and tr.genes[x].fc_pval[cond][1]<0.05]\n",
    "            number_genes+=len(dict_cond[expr_class])\n",
    "        # compute the correlation and write in file\n",
    "        qq=spearmanr(corf_expr,corf_log2FC)\n",
    "        corf.write(\"%s\\t%s\\t%d\\t%.3f\\t%.3e\\n\"%(org,conditions[org][ic],number_genes,qq.correlation,qq.pvalue))\n",
    "corf.close()"
   ]
  },
  {
   "cell_type": "markdown",
   "id": "dc548f78",
   "metadata": {},
   "source": [
    "# Plot all correlation coefficients as a Volcano plot and as a simple barplot"
   ]
  },
  {
   "cell_type": "code",
   "execution_count": 6,
   "id": "5cc6b9e7",
   "metadata": {},
   "outputs": [],
   "source": [
    "cor=pd.read_csv(\"correl_values_expr_log2FC_select.txt\",sep=\"\\t\")"
   ]
  },
  {
   "cell_type": "code",
   "execution_count": 54,
   "id": "8567073d",
   "metadata": {},
   "outputs": [],
   "source": [
    "def symbol(pv):\n",
    "    if pv > 0.05: \n",
    "        return \" -\"\n",
    "    elif pv > 0.01: \n",
    "        return \" *\"\n",
    "    elif pv > 0.001: \n",
    "        return \" **\"\n",
    "    #elif pv > 0.0001: \n",
    "    #    return \"***\"\n",
    "    else: \n",
    "        return \"***\""
   ]
  },
  {
   "cell_type": "code",
   "execution_count": 82,
   "id": "3e1fdfae",
   "metadata": {},
   "outputs": [
    {
     "data": {
      "image/png": "[encoded data removed]",
      "text/plain": [
       "<Figure size 144x180 with 1 Axes>"
      ]
     },
     "metadata": {
      "needs_background": "light"
     },
     "output_type": "display_data"
    }
   ],
   "source": [
    "fig=plt.figure(figsize=(2,2.5))\n",
    "novo=cor.loc[[8,3,6,5,0,2,4]]\n",
    "plt.bar(np.arange(7),novo[\"Correlation coefficient\"],tick_label=novo[\"Species\"])#,novo[\"P-value\"],marker=\"o\",color=\"blue\",ms=3,ls=\"\")\n",
    "#plt.bar(np.arange(10,13),seco[\"Correlation coefficient\"],tick_label=seco[\"Species\"])\n",
    "# Names\n",
    "for ipv,pv in enumerate(novo[\"P-value\"]):\n",
    "    plt.text(ipv-.3,0.0,symbol(pv),fontsize=10)\n",
    "plt.xlabel(\"Species\")\n",
    "plt.xticks(rotation=90)\n",
    "plt.title(\"gyrase\")\n",
    "plt.ylabel(\"Strength-log2FC correlation\")\n",
    "plt.ylim(-.64,0.06)\n",
    "#plt.yscale(\"log\")\n",
    "plt.savefig(\"correlation_novo.svg\")"
   ]
  },
  {
   "cell_type": "code",
   "execution_count": 88,
   "id": "ad1c32d7",
   "metadata": {},
   "outputs": [
    {
     "data": {
      "image/png": "[encoded data removed]",
      "text/plain": [
       "<Figure size 43.2x180 with 1 Axes>"
      ]
     },
     "metadata": {
      "needs_background": "light"
     },
     "output_type": "display_data"
    }
   ],
   "source": [
    "fig=plt.figure(figsize=(.6,2.5))\n",
    "seco=cor.loc[[1,7]]\n",
    "#plt.plot(seco[\"Correlation coefficient\"],seco[\"P-value\"],marker=\"o\",color=\"red\",ms=3,ls=\"\")\n",
    "# Novo\n",
    "#novo=cor.loc[[0,1,4,5,6,7,8,10]]\n",
    "novo=cor.loc[[10,5,8,7,0,4,6,1]]\n",
    "#plt.bar(np.arange(8),novo[\"Correlation coefficient\"],tick_label=novo[\"Species\"])#,novo[\"P-value\"],marker=\"o\",color=\"blue\",ms=3,ls=\"\")\n",
    "plt.bar(np.arange(2),seco[\"Correlation coefficient\"],tick_label=seco[\"Species\"])\n",
    "# Names\n",
    "for ipv,pv in enumerate(seco[\"P-value\"]):\n",
    "    plt.text(ipv-.3,0.0,symbol(pv),fontsize=12)\n",
    "plt.xlabel(\"Species\")\n",
    "plt.xticks(rotation=90)\n",
    "plt.title(\"topoI\")\n",
    "plt.ylabel(\"Strength-log2FC correlation\")\n",
    "plt.ylim(-.64,0.06)\n",
    "#plt.yscale(\"log\")\n",
    "plt.savefig(\"correlation_seco.svg\")"
   ]
  },
  {
   "cell_type": "code",
   "execution_count": null,
   "id": "76f8b63e",
   "metadata": {},
   "outputs": [],
   "source": []
  }
 ],
 "metadata": {
  "kernelspec": {
   "display_name": "Python 3 (ipykernel)",
   "language": "python",
   "name": "python3"
  },
  "language_info": {
   "codemirror_mode": {
    "name": "ipython",
    "version": 3
   },
   "file_extension": ".py",
   "mimetype": "text/x-python",
   "name": "python",
   "nbconvert_exporter": "python",
   "pygments_lexer": "ipython3",
   "version": "3.12.3"
  }
 },
 "nbformat": 4,
 "nbformat_minor": 5
}
